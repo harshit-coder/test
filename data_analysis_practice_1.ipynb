{
  "nbformat": 4,
  "nbformat_minor": 0,
  "metadata": {
    "colab": {
      "provenance": [],
      "authorship_tag": "ABX9TyNKwN/nkYZxn3wKwRM0Lk3D",
      "include_colab_link": true
    },
    "kernelspec": {
      "name": "python3",
      "display_name": "Python 3"
    },
    "language_info": {
      "name": "python"
    }
  },
  "cells": [
    {
      "cell_type": "markdown",
      "metadata": {
        "id": "view-in-github",
        "colab_type": "text"
      },
      "source": [
        "<a href=\"https://colab.research.google.com/github/harshit-coder/test/blob/master/data_analysis_practice_1.ipynb\" target=\"_parent\"><img src=\"https://colab.research.google.com/assets/colab-badge.svg\" alt=\"Open In Colab\"/></a>"
      ]
    },
    {
      "cell_type": "code",
      "source": [
        "from google.colab import userdata\n",
        "userdata.get('username')"
      ],
      "metadata": {
        "colab": {
          "base_uri": "https://localhost:8080/",
          "height": 36
        },
        "id": "Z6WIIap5GNn6",
        "outputId": "42be94a9-b622-4564-8098-a93a1efdb5c4"
      },
      "execution_count": 2,
      "outputs": [
        {
          "output_type": "execute_result",
          "data": {
            "text/plain": [
              "'harshitkalucha22'"
            ],
            "application/vnd.google.colaboratory.intrinsic+json": {
              "type": "string"
            }
          },
          "metadata": {},
          "execution_count": 2
        }
      ]
    },
    {
      "cell_type": "code",
      "source": [
        "from kaggle.api.kaggle_api_extended import KaggleApi\n",
        "import os\n",
        "from google.colab import userdata\n",
        "import kagglehub\n",
        "\n",
        "# Set Kaggle credentials directly in the script\n",
        "os.environ[\"KAGGLE_USERNAME\"] = userdata.get('username')  # Replace with your Kaggle username\n",
        "os.environ[\"KAGGLE_KEY\"] = userdata.get('key')         # Replace with your Kaggle API key\n",
        "\n",
        "# Initialize the API\n",
        "api = KaggleApi()\n",
        "api.authenticate()\n",
        "\n",
        "path = kagglehub.dataset_download(\"muhammadroshaanriaz/students-performance-dataset-cleaned\")\n",
        "\n",
        "print(f\"Dataset downloaded to {path}\")"
      ],
      "metadata": {
        "colab": {
          "base_uri": "https://localhost:8080/"
        },
        "id": "SzbIfTQmIY6W",
        "outputId": "ab53126b-ace0-43e1-f2c1-37533ff02f09"
      },
      "execution_count": 11,
      "outputs": [
        {
          "output_type": "stream",
          "name": "stdout",
          "text": [
            "Dataset downloaded to /root/.cache/kagglehub/datasets/muhammadroshaanriaz/students-performance-dataset-cleaned/versions/1\n"
          ]
        }
      ]
    },
    {
      "cell_type": "code",
      "source": [],
      "metadata": {
        "id": "jvzY633aIqkI"
      },
      "execution_count": null,
      "outputs": []
    }
  ]
}